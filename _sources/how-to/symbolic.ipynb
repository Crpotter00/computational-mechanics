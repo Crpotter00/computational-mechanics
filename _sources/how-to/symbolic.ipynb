{
 "cells": [
  {
   "cell_type": "code",
   "execution_count": 1,
   "id": "31e5b220",
   "metadata": {},
   "outputs": [
    {
     "ename": "ModuleNotFoundError",
     "evalue": "No module named 'sympy'",
     "output_type": "error",
     "traceback": [
      "\u001b[0;31m---------------------------------------------------------------------------\u001b[0m",
      "\u001b[0;31mModuleNotFoundError\u001b[0m                       Traceback (most recent call last)",
      "\u001b[0;32m/tmp/ipykernel_1852/700992863.py\u001b[0m in \u001b[0;36m<module>\u001b[0;34m\u001b[0m\n\u001b[0;32m----> 1\u001b[0;31m \u001b[0;32mimport\u001b[0m \u001b[0msympy\u001b[0m\u001b[0;34m\u001b[0m\u001b[0;34m\u001b[0m\u001b[0m\n\u001b[0m\u001b[1;32m      2\u001b[0m \u001b[0;32mimport\u001b[0m \u001b[0mnumpy\u001b[0m \u001b[0;32mas\u001b[0m \u001b[0mnp\u001b[0m\u001b[0;34m\u001b[0m\u001b[0;34m\u001b[0m\u001b[0m\n\u001b[1;32m      3\u001b[0m \u001b[0;32mimport\u001b[0m \u001b[0mmatplotlib\u001b[0m\u001b[0;34m.\u001b[0m\u001b[0mpyplot\u001b[0m \u001b[0;32mas\u001b[0m \u001b[0mplt\u001b[0m\u001b[0;34m\u001b[0m\u001b[0;34m\u001b[0m\u001b[0m\n\u001b[1;32m      4\u001b[0m \u001b[0mplt\u001b[0m\u001b[0;34m.\u001b[0m\u001b[0mstyle\u001b[0m\u001b[0;34m.\u001b[0m\u001b[0muse\u001b[0m\u001b[0;34m(\u001b[0m\u001b[0;34m'fivethirtyeight'\u001b[0m\u001b[0;34m)\u001b[0m\u001b[0;34m\u001b[0m\u001b[0;34m\u001b[0m\u001b[0m\n",
      "\u001b[0;31mModuleNotFoundError\u001b[0m: No module named 'sympy'"
     ]
    }
   ],
   "source": [
    "import sympy\n",
    "import numpy as np\n",
    "import matplotlib.pyplot as plt\n",
    "plt.style.use('fivethirtyeight')"
   ]
  },
  {
   "cell_type": "markdown",
   "id": "f0d6d89d",
   "metadata": {
    "tags": []
   },
   "source": [
    "# How to use [SymPy](https://www.sympy.org) to solve equations\n",
    "\n",
    "It can be difficult to create algebra and calculus solutions with symbolic math. For example if you want have an analytical equation to compare to a numerical equation. [SymPy](https://www.sympy.org) is a _symbolic Python_ library that allows you to create variables, rearrange equations, and do math operations (derivatives, integrals, Taylor series, etc.). \n",
    "\n",
    "In this notebook you will:\n",
    "\n",
    "Consider the freefall kinematic equation, $x(t) = x_0 +v_0 t +\\frac{a}{2}t^2$, then\n",
    "1. define variables with `sympy`\n",
    "2. create an equation\n",
    "3. take a derivative of the function\n",
    "3. [`lambdify`](https://docs.sympy.org/latest/tutorial/basic_operations.html#lambdify) the output and plot the maximum height vs initial speed of a baseball thrown upwards from 1 m\n",
    "\n",
    "## 1. define variables with `sympy`"
   ]
  },
  {
   "cell_type": "markdown",
   "id": "7dd13eb3",
   "metadata": {},
   "source": [
    "First, define some variables that you can use to define equations. Here, you create 4 variables:\n",
    "\n",
    "1. time, $t$\n",
    "1. acceleration, $a$\n",
    "2. initial velocity, $v_0$\n",
    "3. initial position, $x_0$"
   ]
  },
  {
   "cell_type": "code",
   "execution_count": null,
   "id": "7ee19797",
   "metadata": {},
   "outputs": [],
   "source": [
    "sympy.var('t, a, v_0, x_0')\n",
    "print(type(t))"
   ]
  },
  {
   "cell_type": "markdown",
   "id": "59767115",
   "metadata": {},
   "source": [
    "The `type` of these variables are `sympy.core.symbol.Symbol`. This means SymPy will consider `t, a, v_0,` and `x_0` as symbolic objects, not floating point or integers."
   ]
  },
  {
   "cell_type": "markdown",
   "id": "ca578ae2",
   "metadata": {
    "tags": []
   },
   "source": [
    "## 2. create an equation\n",
    "\n",
    "Now, you can use these variables to define the kinematic equation for a free falling object:\n",
    "\n",
    "$x(t) = x_0 + v_0 t + \\frac{a}{2}t^2$"
   ]
  },
  {
   "cell_type": "code",
   "execution_count": null,
   "id": "c5b4e6a4",
   "metadata": {},
   "outputs": [],
   "source": [
    "x = x_0 +v_0*t +a/2*t**2\n",
    "x"
   ]
  },
  {
   "cell_type": "markdown",
   "id": "b7ec77bb",
   "metadata": {},
   "source": [
    "The output for a SymPy equation is a $\\LaTeX$ equation. If you right-click on the equation you can \"Show Math as TeX commands\" If you want to copy into a Markdown cell or other location. \n",
    "\n",
    "output:\n",
    "```latex\n",
    "\\displaystyle \\frac{a t^{2}}{2} + t v_{0} + x_{0}\n",
    "```"
   ]
  },
  {
   "cell_type": "markdown",
   "id": "f015ab47",
   "metadata": {
    "tags": []
   },
   "source": [
    "## 3. take a derivative of the function and fin the point when $v(t) = 0$\n",
    "\n",
    "So far, you have defined the position, $x(t)$, as `x`. Now, you can take a derivative to get the velocity, $v(t) = \\frac{dx}{dt}$:"
   ]
  },
  {
   "cell_type": "code",
   "execution_count": null,
   "id": "757ce52b",
   "metadata": {},
   "outputs": [],
   "source": [
    "v = x.diff(t)\n",
    "v"
   ]
  },
  {
   "cell_type": "markdown",
   "id": "21d62267",
   "metadata": {},
   "source": [
    "The function, $\\frac{dx}{dt}$, is now saved as the variable, `v`. You can solve for the time when $v(t) = 0$ using `sympy.solve`"
   ]
  },
  {
   "cell_type": "code",
   "execution_count": null,
   "id": "e14f2c10",
   "metadata": {},
   "outputs": [],
   "source": [
    "sol = sympy.solve(v, t)\n",
    "t_max_x = sol[0]\n",
    "t_max_x"
   ]
  },
  {
   "cell_type": "markdown",
   "id": "921bc948",
   "metadata": {},
   "source": [
    "The solution is that at $t = -\\frac{v_0}{a}$, the velocity will be 0. Now, you can plug this into `x` to see what the solution at minimum speed will be."
   ]
  },
  {
   "cell_type": "code",
   "execution_count": null,
   "id": "b568668b",
   "metadata": {},
   "outputs": [],
   "source": [
    "max_x = x.subs(t, t_max_x)\n",
    "max_x"
   ]
  },
  {
   "cell_type": "markdown",
   "id": "72a69fb4",
   "metadata": {},
   "source": [
    "Considering a freefall example, when $x = 0$ the object will hit the ground. So you can solve for the time when $x=0$. _In this case you have 2 solutions because the equation is a quadratic._"
   ]
  },
  {
   "cell_type": "code",
   "execution_count": null,
   "id": "9c1784e1",
   "metadata": {},
   "outputs": [],
   "source": [
    "t_ground = sympy.solve(x, t)\n",
    "t_ground[0]"
   ]
  },
  {
   "cell_type": "code",
   "execution_count": null,
   "id": "3e0a7962",
   "metadata": {},
   "outputs": [],
   "source": [
    "t_ground[1]"
   ]
  },
  {
   "cell_type": "markdown",
   "id": "daeabeca",
   "metadata": {
    "tags": []
   },
   "source": [
    "## 4. [`lambdify`](https://docs.sympy.org/latest/tutorial/basic_operations.html#lambdify) the output and plot the array\n",
    "\n",
    "You now have symbolic functions that describe freefall motion:\n",
    "- `x`: $x(t)$ the height of the object\n",
    "- `v`: $v(t)$ the speed of the object\n",
    "- `t_max_x`: the time when $v(t) = 0$\n",
    "- `max_x`: the maximum height of the object\n",
    "- `t_ground`: two solutions when $x(t) = 0$\n",
    "\n",
    "Each of these SymPy variables are exact symbolic functions. Next, you will `lambdify` the functions so you can call them and create arrays to plot, compare, etc.\n",
    "Start with `x` and create a function, `x_array`:"
   ]
  },
  {
   "cell_type": "code",
   "execution_count": null,
   "id": "e876b7e1",
   "metadata": {},
   "outputs": [],
   "source": [
    "x_array = sympy.lambdify([t, a, v_0, x_0], x, 'numpy' )"
   ]
  },
  {
   "cell_type": "markdown",
   "id": "b6a5e555",
   "metadata": {},
   "source": [
    "The inputs for `x_array` are \n",
    "- `t`: time _can be single value or arrays\n",
    "- `a`: acceleration _for freefall its $a = -9.81~m/s^2$_\n",
    "- `v_0`: initial velocity\n",
    "- `x_0`: initial position\n",
    "\n",
    "Consider throwing a baseball upwards at $v_0=10~m/s$ from $x_0=1~m$. The maximum height will be at time `t_max_x`:"
   ]
  },
  {
   "cell_type": "code",
   "execution_count": null,
   "id": "3bfe7462",
   "metadata": {},
   "outputs": [],
   "source": [
    "t_max_array = sympy.lambdify([a, v_0, x_0], t_max_x, 'numpy')\n",
    "\n",
    "x0_baseball = 1\n",
    "v0_baseball = 10\n",
    "g = -9.81\n",
    "\n",
    "t_max_baseball = t_max_array(g, v0_baseball, x0_baseball)\n",
    "max_x_baseball = x_array(t_max_baseball, g, v0_baseball, x0_baseball)\n",
    "\n",
    "print('max height of baseball will be at time = {:.3f} s, {:.3f} m high'.format(t_max_baseball, max_x_baseball))"
   ]
  },
  {
   "cell_type": "markdown",
   "id": "d2f8b3c8",
   "metadata": {},
   "source": [
    "Because you defined functions for `x_array` and `t_max_array`, you can input different values for `a`, `v_0`, and `x_0` to see the result. Here's an example of maximum height vs initial speed:"
   ]
  },
  {
   "cell_type": "code",
   "execution_count": null,
   "id": "a35a5e86",
   "metadata": {},
   "outputs": [],
   "source": [
    "v0_baseball = np.linspace(0, 10)\n",
    "t_max_baseball = t_max_array(g, v0_baseball, x0_baseball)\n",
    "max_x_baseball = x_array(t_max_baseball, g, v0_baseball, x0_baseball)\n",
    "\n",
    "plt.plot(v0_baseball, max_x_baseball)\n",
    "plt.title('Max height of baseball thrown from {} m high \\nwith initial speed on x-axis'.format(x0_baseball))\n",
    "plt.xlabel('initial speed (m/s)')\n",
    "plt.ylabel('max height (m)');"
   ]
  }
 ],
 "metadata": {
  "jupytext": {
   "formats": "ipynb,md:myst",
   "text_representation": {
    "extension": ".md",
    "format_name": "myst",
    "format_version": 0.13,
    "jupytext_version": "1.10.3"
   }
  },
  "kernelspec": {
   "display_name": "Python 3",
   "language": "python",
   "name": "python3"
  },
  "language_info": {
   "codemirror_mode": {
    "name": "ipython",
    "version": 3
   },
   "file_extension": ".py",
   "mimetype": "text/x-python",
   "name": "python",
   "nbconvert_exporter": "python",
   "pygments_lexer": "ipython3",
   "version": "3.9.8"
  },
  "source_map": [
   15,
   22,
   38,
   47,
   50,
   54,
   62,
   65,
   74,
   80,
   83,
   87,
   91,
   95,
   98,
   102,
   107,
   111,
   125,
   127,
   137,
   148,
   152
  ]
 },
 "nbformat": 4,
 "nbformat_minor": 5
}